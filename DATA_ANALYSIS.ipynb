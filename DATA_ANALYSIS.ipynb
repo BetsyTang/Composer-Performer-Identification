{
 "cells": [
  {
   "cell_type": "code",
   "execution_count": 3,
   "metadata": {},
   "outputs": [],
   "source": [
    "import pandas as pd\n",
    "import numpy as np"
   ]
  },
  {
   "cell_type": "code",
   "execution_count": null,
   "metadata": {},
   "outputs": [],
   "source": [
    "filepath = \"data/maestro-v3.0.0_modify.csv\"\n",
    "data = pd.read_csv(filepath)"
   ]
  },
  {
   "cell_type": "code",
   "execution_count": 46,
   "metadata": {},
   "outputs": [],
   "source": [
    "counts = data[\"canonical_composer\"].value_counts()\n",
    "selected_composers = counts[counts >= 5].index #24\n",
    "selected_composers = np.asarray(selected_composers)\n",
    "selection = pd.DataFrame(columns=data.columns)\n",
    "for i in selected_composers:\n",
    "    choices = data[data[\"canonical_composer\"] == i].head()\n",
    "    selection = pd.concat([selection, choices], ignore_index=True)\n",
    "selection.to_csv(\"composer_selection.csv\")"
   ]
  },
  {
   "cell_type": "code",
   "execution_count": 47,
   "metadata": {},
   "outputs": [],
   "source": [
    "counts = data[\"performer\"].value_counts()\n",
    "selected_performers = counts[counts >= 10].index #24\n",
    "selected_performers = np.asarray(selected_performers)\n",
    "selection = pd.DataFrame(columns=data.columns)\n",
    "for i in selected_performers:\n",
    "    choices = data[data[\"performer\"] == i].head(10)\n",
    "    selection = pd.concat([selection, choices], ignore_index=True)\n",
    "selection.to_csv(\"performer_selection.csv\")"
   ]
  },
  {
   "cell_type": "code",
   "execution_count": 24,
   "metadata": {},
   "outputs": [],
   "source": [
    "def norm(spec):\n",
    "    mean = np.reshape(np.mean(spec, axis=1), (spec.shape[0],1))\n",
    "    std = np.reshape(np.std(spec, axis=1), (spec.shape[0],1))\n",
    "    spec = np.divide(np.subtract(spec,np.repeat(mean, spec.shape[1], axis=1)), np.repeat(std, spec.shape[1], axis=1))\n",
    "    return spec\n",
    "\n",
    "def pad_trunc_seq(x, max_len):\n",
    "    \"\"\"Pad or truncate a sequence data to a fixed length. \n",
    "    \n",
    "    Args:\n",
    "      x: ndarray, input sequence data. \n",
    "      max_len: integer, length of sequence to be padded or truncated. \n",
    "      \n",
    "    Returns:\n",
    "      ndarray, Padded or truncated input sequence data. \n",
    "    \"\"\"\n",
    "    L = len(x)\n",
    "    shape = x.shape\n",
    "    if L < max_len:\n",
    "        pad_shape = (max_len - L,) + shape[1:]\n",
    "        pad = np.zeros(pad_shape)\n",
    "        x_new = np.concatenate((x, pad), axis=0)\n",
    "    else:\n",
    "        x_new = x[0:max_len]\n",
    "\n",
    "    return x_new"
   ]
  },
  {
   "cell_type": "code",
   "execution_count": null,
   "metadata": {},
   "outputs": [],
   "source": []
  }
 ],
 "metadata": {
  "kernelspec": {
   "display_name": "Python deeplearning",
   "language": "python",
   "name": "deeplearning"
  },
  "language_info": {
   "codemirror_mode": {
    "name": "ipython",
    "version": 3
   },
   "file_extension": ".py",
   "mimetype": "text/x-python",
   "name": "python",
   "nbconvert_exporter": "python",
   "pygments_lexer": "ipython3",
   "version": "3.7.2"
  }
 },
 "nbformat": 4,
 "nbformat_minor": 2
}
